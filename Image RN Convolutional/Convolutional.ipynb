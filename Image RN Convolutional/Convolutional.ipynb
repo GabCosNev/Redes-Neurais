{
 "cells": [
  {
   "cell_type": "markdown",
   "id": "a0c0d449-5095-47b6-8c64-f66aeb4a3747",
   "metadata": {
    "jp-MarkdownHeadingCollapsed": true
   },
   "source": [
    "## Libraries executar antes do load"
   ]
  },
  {
   "cell_type": "code",
   "execution_count": 1,
   "id": "dee003cb-4a36-48af-be3e-5a1bc4be9c06",
   "metadata": {},
   "outputs": [],
   "source": [
    "import tensorflow as tf\n",
    "import numpy as np\n",
    "from tensorflow.keras.preprocessing.image import ImageDataGenerator\n",
    "from tensorflow.keras.preprocessing import image\n",
    "from tensorflow.keras.models import load_model"
   ]
  },
  {
   "cell_type": "markdown",
   "id": "ab37f3ce-e713-4596-8b6f-d26d89f753c4",
   "metadata": {
    "jp-MarkdownHeadingCollapsed": true
   },
   "source": [
    "## Preprocessing the Training Set executar antes do load"
   ]
  },
  {
   "cell_type": "code",
   "execution_count": 6,
   "id": "5a288af5-bfc1-4488-8386-c8177e53961f",
   "metadata": {},
   "outputs": [
    {
     "name": "stdout",
     "output_type": "stream",
     "text": [
      "Found 8000 images belonging to 2 classes.\n"
     ]
    }
   ],
   "source": [
    "# Cria um gerador de imagens para dados de treinamento\n",
    "train_datagen = ImageDataGenerator(\n",
    "    rescale=1./255,         # Normaliza os valores dos pixels para o intervalo [0, 1]\n",
    "    shear_range=0.2,        # Aplica transformações de cisalhamento em até 20% nos eixos\n",
    "    zoom_range=0.2,         # Aplica zoom aleatório nas imagens (aumenta/diminui em até 20%)\n",
    "    horizontal_flip=True    # Permite espelhamento horizontal aleatório das imagens\n",
    ")\n",
    "\n",
    "# Cria um conjunto de dados de treinamento a partir de imagens organizadas em diretórios\n",
    "train_set = train_datagen.flow_from_directory(\n",
    "    'dataset/training_set/',  # Caminho para o diretório que contém as imagens de treinamento\n",
    "    target_size=(64, 64),     # Redimensiona todas as imagens para 64x64 pixels\n",
    "    batch_size=32,            # Número de imagens a serem processadas por vez (lote)\n",
    "    class_mode='binary'       # Define o tipo de classificação como binária (duas classes: 0 ou 1)\n",
    ")"
   ]
  },
  {
   "cell_type": "markdown",
   "id": "69aae7a5-5033-4a12-9bcd-fb504cfa8698",
   "metadata": {
    "jp-MarkdownHeadingCollapsed": true
   },
   "source": [
    "## Preprocessing the Test Set executar antes do load"
   ]
  },
  {
   "cell_type": "code",
   "execution_count": 8,
   "id": "1bd6679d-b3e8-4060-bf25-9972c9d47f8a",
   "metadata": {},
   "outputs": [
    {
     "name": "stdout",
     "output_type": "stream",
     "text": [
      "Found 2000 images belonging to 2 classes.\n"
     ]
    }
   ],
   "source": [
    "test_datagen = ImageDataGenerator(rescale = 1./255)\n",
    "test_set = train_datagen.flow_from_directory(\n",
    "    'dataset/test_set/',\n",
    "    target_size=(64, 64),     \n",
    "    batch_size=32,           \n",
    "    class_mode='binary'       \n",
    ")"
   ]
  },
  {
   "cell_type": "markdown",
   "id": "e78c3573-8651-4578-8ddc-8f5e9c762c3b",
   "metadata": {
    "jp-MarkdownHeadingCollapsed": true
   },
   "source": [
    "## Convolution Pooling Flattening"
   ]
  },
  {
   "cell_type": "code",
   "execution_count": 11,
   "id": "3421b689-bcfb-4fa0-8b92-7056c89e1d16",
   "metadata": {},
   "outputs": [],
   "source": [
    "cnn = tf.keras.models.Sequential([\n",
    "    \n",
    "    # Define a entrada do modelo: imagens de 64x64 pixels com 3 canais (RGB)\n",
    "    tf.keras.layers.Input(shape=(64, 64, 3)),\n",
    "    \n",
    "    # Primeira camada convolucional com 32 filtros e tamanho do kernel 3x3, ativação ReLU\n",
    "    tf.keras.layers.Conv2D(filters=32, kernel_size=3, activation='relu'),\n",
    "    \n",
    "    # Camada de pooling para reduzir a dimensionalidade espacial (downsampling) com janela 2x2\n",
    "    tf.keras.layers.MaxPool2D(pool_size=2, strides=2),\n",
    "    \n",
    "    # Segunda camada convolucional com 32 filtros e tamanho do kernel 3x3, ativação ReLU\n",
    "    tf.keras.layers.Conv2D(filters=32, kernel_size=3, activation='relu'),\n",
    "    \n",
    "    # Outra camada de pooling para reduzir ainda mais a dimensionalidade espacial\n",
    "    tf.keras.layers.MaxPool2D(pool_size=2, strides=2),\n",
    "    \n",
    "    # Camada de achatamento (flatten) para transformar os dados 2D em um vetor 1D\n",
    "    tf.keras.layers.Flatten(),\n",
    "    \n",
    "    # Camada totalmente conectada com 128 unidades e ativação ReLU\n",
    "    tf.keras.layers.Dense(units=128, activation='relu'),\n",
    "    \n",
    "    # Camada de saída com 1 unidade e ativação sigmoide para classificação binária\n",
    "    tf.keras.layers.Dense(units=1, activation='sigmoid')\n",
    "\n",
    "])"
   ]
  },
  {
   "cell_type": "markdown",
   "id": "b2fb9efa-71c9-4be5-8fa5-fb6ceea65d33",
   "metadata": {
    "jp-MarkdownHeadingCollapsed": true
   },
   "source": [
    "## Traning the CNN"
   ]
  },
  {
   "cell_type": "code",
   "execution_count": 13,
   "id": "6b22c611-8f2e-4b2b-ba64-c69393c221f3",
   "metadata": {},
   "outputs": [],
   "source": [
    "cnn.compile( optimizer = 'adam', loss = 'binary_crossentropy', metrics = ['accuracy'])"
   ]
  },
  {
   "cell_type": "code",
   "execution_count": 14,
   "id": "3a4cb24c-5b35-4f66-8edd-4f4ffb0d4486",
   "metadata": {},
   "outputs": [
    {
     "name": "stderr",
     "output_type": "stream",
     "text": [
      "C:\\Users\\Gabriel\\anaconda3\\Lib\\site-packages\\keras\\src\\trainers\\data_adapters\\py_dataset_adapter.py:121: UserWarning: Your `PyDataset` class should call `super().__init__(**kwargs)` in its constructor. `**kwargs` can include `workers`, `use_multiprocessing`, `max_queue_size`. Do not pass these arguments to `fit()`, as they will be ignored.\n",
      "  self._warn_if_super_not_called()\n"
     ]
    },
    {
     "name": "stdout",
     "output_type": "stream",
     "text": [
      "Epoch 1/25\n",
      "\u001b[1m250/250\u001b[0m \u001b[32m━━━━━━━━━━━━━━━━━━━━\u001b[0m\u001b[37m\u001b[0m \u001b[1m0s\u001b[0m 208ms/step - accuracy: 0.5476 - loss: 0.6845"
     ]
    },
    {
     "name": "stderr",
     "output_type": "stream",
     "text": [
      "C:\\Users\\Gabriel\\anaconda3\\Lib\\site-packages\\keras\\src\\trainers\\data_adapters\\py_dataset_adapter.py:121: UserWarning: Your `PyDataset` class should call `super().__init__(**kwargs)` in its constructor. `**kwargs` can include `workers`, `use_multiprocessing`, `max_queue_size`. Do not pass these arguments to `fit()`, as they will be ignored.\n",
      "  self._warn_if_super_not_called()\n"
     ]
    },
    {
     "name": "stdout",
     "output_type": "stream",
     "text": [
      "\u001b[1m250/250\u001b[0m \u001b[32m━━━━━━━━━━━━━━━━━━━━\u001b[0m\u001b[37m\u001b[0m \u001b[1m66s\u001b[0m 256ms/step - accuracy: 0.5478 - loss: 0.6844 - val_accuracy: 0.5810 - val_loss: 0.6685\n",
      "Epoch 2/25\n",
      "\u001b[1m250/250\u001b[0m \u001b[32m━━━━━━━━━━━━━━━━━━━━\u001b[0m\u001b[37m\u001b[0m \u001b[1m26s\u001b[0m 103ms/step - accuracy: 0.6789 - loss: 0.5879 - val_accuracy: 0.7290 - val_loss: 0.5414\n",
      "Epoch 3/25\n",
      "\u001b[1m250/250\u001b[0m \u001b[32m━━━━━━━━━━━━━━━━━━━━\u001b[0m\u001b[37m\u001b[0m \u001b[1m25s\u001b[0m 102ms/step - accuracy: 0.7223 - loss: 0.5464 - val_accuracy: 0.7395 - val_loss: 0.5281\n",
      "Epoch 4/25\n",
      "\u001b[1m250/250\u001b[0m \u001b[32m━━━━━━━━━━━━━━━━━━━━\u001b[0m\u001b[37m\u001b[0m \u001b[1m26s\u001b[0m 104ms/step - accuracy: 0.7368 - loss: 0.5129 - val_accuracy: 0.7520 - val_loss: 0.5199\n",
      "Epoch 5/25\n",
      "\u001b[1m250/250\u001b[0m \u001b[32m━━━━━━━━━━━━━━━━━━━━\u001b[0m\u001b[37m\u001b[0m \u001b[1m25s\u001b[0m 99ms/step - accuracy: 0.7520 - loss: 0.5013 - val_accuracy: 0.7555 - val_loss: 0.5015\n",
      "Epoch 6/25\n",
      "\u001b[1m250/250\u001b[0m \u001b[32m━━━━━━━━━━━━━━━━━━━━\u001b[0m\u001b[37m\u001b[0m \u001b[1m25s\u001b[0m 98ms/step - accuracy: 0.7831 - loss: 0.4597 - val_accuracy: 0.7645 - val_loss: 0.4915\n",
      "Epoch 7/25\n",
      "\u001b[1m250/250\u001b[0m \u001b[32m━━━━━━━━━━━━━━━━━━━━\u001b[0m\u001b[37m\u001b[0m \u001b[1m25s\u001b[0m 101ms/step - accuracy: 0.7874 - loss: 0.4527 - val_accuracy: 0.7810 - val_loss: 0.4778\n",
      "Epoch 8/25\n",
      "\u001b[1m250/250\u001b[0m \u001b[32m━━━━━━━━━━━━━━━━━━━━\u001b[0m\u001b[37m\u001b[0m \u001b[1m25s\u001b[0m 99ms/step - accuracy: 0.7883 - loss: 0.4451 - val_accuracy: 0.7680 - val_loss: 0.4949\n",
      "Epoch 9/25\n",
      "\u001b[1m250/250\u001b[0m \u001b[32m━━━━━━━━━━━━━━━━━━━━\u001b[0m\u001b[37m\u001b[0m \u001b[1m24s\u001b[0m 98ms/step - accuracy: 0.7989 - loss: 0.4326 - val_accuracy: 0.7840 - val_loss: 0.4742\n",
      "Epoch 10/25\n",
      "\u001b[1m250/250\u001b[0m \u001b[32m━━━━━━━━━━━━━━━━━━━━\u001b[0m\u001b[37m\u001b[0m \u001b[1m26s\u001b[0m 103ms/step - accuracy: 0.8149 - loss: 0.4101 - val_accuracy: 0.7740 - val_loss: 0.4872\n",
      "Epoch 11/25\n",
      "\u001b[1m250/250\u001b[0m \u001b[32m━━━━━━━━━━━━━━━━━━━━\u001b[0m\u001b[37m\u001b[0m \u001b[1m26s\u001b[0m 104ms/step - accuracy: 0.8075 - loss: 0.4138 - val_accuracy: 0.7760 - val_loss: 0.4964\n",
      "Epoch 12/25\n",
      "\u001b[1m250/250\u001b[0m \u001b[32m━━━━━━━━━━━━━━━━━━━━\u001b[0m\u001b[37m\u001b[0m \u001b[1m25s\u001b[0m 99ms/step - accuracy: 0.8216 - loss: 0.3893 - val_accuracy: 0.7900 - val_loss: 0.4707\n",
      "Epoch 13/25\n",
      "\u001b[1m250/250\u001b[0m \u001b[32m━━━━━━━━━━━━━━━━━━━━\u001b[0m\u001b[37m\u001b[0m \u001b[1m25s\u001b[0m 100ms/step - accuracy: 0.8302 - loss: 0.3691 - val_accuracy: 0.7875 - val_loss: 0.4618\n",
      "Epoch 14/25\n",
      "\u001b[1m250/250\u001b[0m \u001b[32m━━━━━━━━━━━━━━━━━━━━\u001b[0m\u001b[37m\u001b[0m \u001b[1m25s\u001b[0m 102ms/step - accuracy: 0.8428 - loss: 0.3552 - val_accuracy: 0.8000 - val_loss: 0.4558\n",
      "Epoch 15/25\n",
      "\u001b[1m250/250\u001b[0m \u001b[32m━━━━━━━━━━━━━━━━━━━━\u001b[0m\u001b[37m\u001b[0m \u001b[1m25s\u001b[0m 101ms/step - accuracy: 0.8513 - loss: 0.3388 - val_accuracy: 0.7905 - val_loss: 0.4869\n",
      "Epoch 16/25\n",
      "\u001b[1m250/250\u001b[0m \u001b[32m━━━━━━━━━━━━━━━━━━━━\u001b[0m\u001b[37m\u001b[0m \u001b[1m25s\u001b[0m 102ms/step - accuracy: 0.8629 - loss: 0.3194 - val_accuracy: 0.7870 - val_loss: 0.5001\n",
      "Epoch 17/25\n",
      "\u001b[1m250/250\u001b[0m \u001b[32m━━━━━━━━━━━━━━━━━━━━\u001b[0m\u001b[37m\u001b[0m \u001b[1m25s\u001b[0m 101ms/step - accuracy: 0.8694 - loss: 0.3089 - val_accuracy: 0.7915 - val_loss: 0.4968\n",
      "Epoch 18/25\n",
      "\u001b[1m250/250\u001b[0m \u001b[32m━━━━━━━━━━━━━━━━━━━━\u001b[0m\u001b[37m\u001b[0m \u001b[1m24s\u001b[0m 98ms/step - accuracy: 0.8726 - loss: 0.2914 - val_accuracy: 0.7875 - val_loss: 0.4826\n",
      "Epoch 19/25\n",
      "\u001b[1m250/250\u001b[0m \u001b[32m━━━━━━━━━━━━━━━━━━━━\u001b[0m\u001b[37m\u001b[0m \u001b[1m25s\u001b[0m 100ms/step - accuracy: 0.8842 - loss: 0.2813 - val_accuracy: 0.7950 - val_loss: 0.4814\n",
      "Epoch 20/25\n",
      "\u001b[1m250/250\u001b[0m \u001b[32m━━━━━━━━━━━━━━━━━━━━\u001b[0m\u001b[37m\u001b[0m \u001b[1m25s\u001b[0m 100ms/step - accuracy: 0.8849 - loss: 0.2808 - val_accuracy: 0.7900 - val_loss: 0.5038\n",
      "Epoch 21/25\n",
      "\u001b[1m250/250\u001b[0m \u001b[32m━━━━━━━━━━━━━━━━━━━━\u001b[0m\u001b[37m\u001b[0m \u001b[1m25s\u001b[0m 102ms/step - accuracy: 0.8970 - loss: 0.2438 - val_accuracy: 0.7905 - val_loss: 0.5671\n",
      "Epoch 22/25\n",
      "\u001b[1m250/250\u001b[0m \u001b[32m━━━━━━━━━━━━━━━━━━━━\u001b[0m\u001b[37m\u001b[0m \u001b[1m25s\u001b[0m 100ms/step - accuracy: 0.9018 - loss: 0.2391 - val_accuracy: 0.7940 - val_loss: 0.5115\n",
      "Epoch 23/25\n",
      "\u001b[1m250/250\u001b[0m \u001b[32m━━━━━━━━━━━━━━━━━━━━\u001b[0m\u001b[37m\u001b[0m \u001b[1m25s\u001b[0m 101ms/step - accuracy: 0.9140 - loss: 0.2131 - val_accuracy: 0.7840 - val_loss: 0.5914\n",
      "Epoch 24/25\n",
      "\u001b[1m250/250\u001b[0m \u001b[32m━━━━━━━━━━━━━━━━━━━━\u001b[0m\u001b[37m\u001b[0m \u001b[1m25s\u001b[0m 100ms/step - accuracy: 0.9210 - loss: 0.1967 - val_accuracy: 0.7895 - val_loss: 0.5814\n",
      "Epoch 25/25\n",
      "\u001b[1m250/250\u001b[0m \u001b[32m━━━━━━━━━━━━━━━━━━━━\u001b[0m\u001b[37m\u001b[0m \u001b[1m24s\u001b[0m 95ms/step - accuracy: 0.9191 - loss: 0.1962 - val_accuracy: 0.7915 - val_loss: 0.5750\n"
     ]
    },
    {
     "data": {
      "text/plain": [
       "<keras.src.callbacks.history.History at 0x2823b0c0a40>"
      ]
     },
     "execution_count": 14,
     "metadata": {},
     "output_type": "execute_result"
    }
   ],
   "source": [
    "cnn.fit(x = train_set, validation_data = test_set, epochs = 25)"
   ]
  },
  {
   "cell_type": "code",
   "execution_count": 35,
   "id": "eaa2acb5-5bea-446e-a8c7-efe36449af52",
   "metadata": {},
   "outputs": [],
   "source": [
    "# cnn.save('modelo_gato_cachorro.keras')"
   ]
  },
  {
   "cell_type": "markdown",
   "id": "2c34864c-3c50-4ee9-9ffb-c690a0ab3ce7",
   "metadata": {},
   "source": [
    "## Single Prediction"
   ]
  },
  {
   "cell_type": "code",
   "execution_count": 10,
   "id": "dfda6593-dfe0-4d80-bb5b-c79c74d4aeaa",
   "metadata": {},
   "outputs": [],
   "source": [
    "cnn = load_model('modelo_gato_cachorro.keras', compile=False)"
   ]
  },
  {
   "cell_type": "code",
   "execution_count": 12,
   "id": "d5b814d0-8b08-43de-b778-3b9cac975061",
   "metadata": {},
   "outputs": [
    {
     "name": "stdout",
     "output_type": "stream",
     "text": [
      "\u001b[1m1/1\u001b[0m \u001b[32m━━━━━━━━━━━━━━━━━━━━\u001b[0m\u001b[37m\u001b[0m \u001b[1m0s\u001b[0m 53ms/step\n",
      "{'cats': 0, 'dogs': 1}\n"
     ]
    }
   ],
   "source": [
    "# 1. Carrega a imagem e redimensiona para 64x64 pixels (tamanho esperado pelo modelo CNN)\n",
    "test_image = image.load_img('dataset/single_prediction/cat_or_dog_2.jpg', target_size=(64, 64))\n",
    "\n",
    "# 2. Converte a imagem para um array NumPy. Agora os dados da imagem são representados como valores de pixel.\n",
    "test_image = image.img_to_array(test_image)\n",
    "\n",
    "# 3. Adiciona uma nova dimensão ao array para simular um batch de tamanho 1.\n",
    "# O modelo espera que as entradas estejam no formato (batch_size, height, width, channels).\n",
    "test_image = np.expand_dims(test_image, axis=0)\n",
    "\n",
    "# 4. Realiza a predição usando o modelo CNN treinado. O resultado será um array de probabilidades ou classes.\n",
    "result = cnn.predict(test_image)\n",
    "\n",
    "# 5. Imprime os índices das classes do conjunto de treino (necessário para mapear o índice para o nome da classe).\n",
    "# Por exemplo, pode retornar {'cat': 0, 'dog': 1}.\n",
    "print(train_set.class_indices)"
   ]
  },
  {
   "cell_type": "code",
   "execution_count": 14,
   "id": "a9cb3ccb-edef-45ac-8603-ef38f93865a3",
   "metadata": {},
   "outputs": [
    {
     "name": "stdout",
     "output_type": "stream",
     "text": [
      "cat\n"
     ]
    }
   ],
   "source": [
    "# 6. Interpreta o resultado da predição.\n",
    "# Se o primeiro elemento no resultado (result[0][0]) for 1, a predição é 'dog'; caso contrário, é 'cat'.\n",
    "if result[0][0] == 1:\n",
    "    prediction = 'dog'\n",
    "else:\n",
    "    prediction = 'cat'\n",
    "\n",
    "# 7. Imprime a predição final, indicando se a imagem é de um cachorro ou um gato.\n",
    "print(prediction)"
   ]
  }
 ],
 "metadata": {
  "kernelspec": {
   "display_name": "Python 3 (ipykernel)",
   "language": "python",
   "name": "python3"
  },
  "language_info": {
   "codemirror_mode": {
    "name": "ipython",
    "version": 3
   },
   "file_extension": ".py",
   "mimetype": "text/x-python",
   "name": "python",
   "nbconvert_exporter": "python",
   "pygments_lexer": "ipython3",
   "version": "3.12.4"
  }
 },
 "nbformat": 4,
 "nbformat_minor": 5
}
