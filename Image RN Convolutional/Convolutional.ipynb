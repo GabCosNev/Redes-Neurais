{
 "cells": [
  {
   "cell_type": "markdown",
   "id": "a0c0d449-5095-47b6-8c64-f66aeb4a3747",
   "metadata": {},
   "source": [
    "## Libraries executar antes do load"
   ]
  },
  {
   "cell_type": "code",
   "execution_count": 2,
   "id": "dee003cb-4a36-48af-be3e-5a1bc4be9c06",
   "metadata": {},
   "outputs": [],
   "source": [
    "import tensorflow as tf\n",
    "import numpy as np\n",
    "from tensorflow.keras.preprocessing.image import ImageDataGenerator\n",
    "from tensorflow.keras.preprocessing import image\n",
    "from tensorflow.keras.models import load_model"
   ]
  },
  {
   "cell_type": "markdown",
   "id": "ab37f3ce-e713-4596-8b6f-d26d89f753c4",
   "metadata": {},
   "source": [
    "## Preprocessing the Training Set executar antes do load"
   ]
  },
  {
   "cell_type": "code",
   "execution_count": 4,
   "id": "5a288af5-bfc1-4488-8386-c8177e53961f",
   "metadata": {},
   "outputs": [
    {
     "name": "stdout",
     "output_type": "stream",
     "text": [
      "Found 8000 files belonging to 2 classes.\n"
     ]
    }
   ],
   "source": [
    "train_set = tf.keras.utils.image_dataset_from_directory(\n",
    "    'dataset/training_set/',\n",
    "    image_size=(64, 64),\n",
    "    batch_size=32,\n",
    "    label_mode='binary'  # Configura saída categórica\n",
    ")"
   ]
  },
  {
   "cell_type": "markdown",
   "id": "69aae7a5-5033-4a12-9bcd-fb504cfa8698",
   "metadata": {},
   "source": [
    "## Preprocessing the Test Set executar antes do load"
   ]
  },
  {
   "cell_type": "code",
   "execution_count": 6,
   "id": "1bd6679d-b3e8-4060-bf25-9972c9d47f8a",
   "metadata": {
    "scrolled": true
   },
   "outputs": [
    {
     "name": "stdout",
     "output_type": "stream",
     "text": [
      "Found 2000 files belonging to 2 classes.\n"
     ]
    }
   ],
   "source": [
    "test_set = tf.keras.utils.image_dataset_from_directory(\n",
    "    'dataset/test_set/',\n",
    "    image_size=(64, 64),\n",
    "    batch_size=32,\n",
    "    label_mode='binary'  # Configura saída categórica\n",
    ")"
   ]
  },
  {
   "cell_type": "code",
   "execution_count": 7,
   "id": "ac631419-e8e2-4f21-b8eb-b73577934430",
   "metadata": {},
   "outputs": [],
   "source": [
    "normalization_layer = tf.keras.layers.Rescaling(1./255)\n",
    "train_set = train_set.map(lambda x, y: (normalization_layer(x), y))\n",
    "test_set = test_set.map(lambda x, y: (normalization_layer(x), y))"
   ]
  },
  {
   "cell_type": "markdown",
   "id": "e78c3573-8651-4578-8ddc-8f5e9c762c3b",
   "metadata": {},
   "source": [
    "## Convolution Pooling Flattening"
   ]
  },
  {
   "cell_type": "code",
   "execution_count": 9,
   "id": "3421b689-bcfb-4fa0-8b92-7056c89e1d16",
   "metadata": {},
   "outputs": [],
   "source": [
    "cnn = tf.keras.models.Sequential([\n",
    "    \n",
    "    tf.keras.layers.Input(shape=(64, 64, 3)),\n",
    "    tf.keras.layers.Conv2D(filters=32, kernel_size=3, activation='relu'),\n",
    "    \n",
    "    # pool_size janelas 2x2 que analisa, strides de quanto em quanto se passa na imagem\n",
    "    tf.keras.layers.MaxPool2D(pool_size=2, strides=2),\n",
    "    \n",
    "    # Segunda camada\n",
    "    tf.keras.layers.Conv2D(filters=32, kernel_size=3, activation='relu'),\n",
    "    tf.keras.layers.MaxPool2D(pool_size=2, strides=2),\n",
    "    \n",
    "    # Camada de achatamento (flatten) para transformar os dados 2D em um vetor 1D\n",
    "    tf.keras.layers.Flatten(),\n",
    "    \n",
    "    # Camada totalmente conectada com 128 unidades e ativação ReLU\n",
    "    tf.keras.layers.Dense(units=128, activation='relu'),\n",
    "    \n",
    "    # Camada de saída com 1 unidade e ativação sigmoide para classificação binária\n",
    "    tf.keras.layers.Dense(units=1, activation='sigmoid')\n",
    "\n",
    "])"
   ]
  },
  {
   "cell_type": "markdown",
   "id": "b2fb9efa-71c9-4be5-8fa5-fb6ceea65d33",
   "metadata": {},
   "source": [
    "## Traning the CNN"
   ]
  },
  {
   "cell_type": "code",
   "execution_count": 11,
   "id": "6b22c611-8f2e-4b2b-ba64-c69393c221f3",
   "metadata": {},
   "outputs": [],
   "source": [
    "cnn.compile( optimizer = 'adam', loss = 'binary_crossentropy', metrics = ['accuracy'])"
   ]
  },
  {
   "cell_type": "code",
   "execution_count": 12,
   "id": "3a4cb24c-5b35-4f66-8edd-4f4ffb0d4486",
   "metadata": {},
   "outputs": [
    {
     "name": "stdout",
     "output_type": "stream",
     "text": [
      "Epoch 1/25\n",
      "\u001b[1m250/250\u001b[0m \u001b[32m━━━━━━━━━━━━━━━━━━━━\u001b[0m\u001b[37m\u001b[0m \u001b[1m10s\u001b[0m 34ms/step - accuracy: 0.5622 - loss: 0.6795 - val_accuracy: 0.6985 - val_loss: 0.5943\n",
      "Epoch 2/25\n",
      "\u001b[1m250/250\u001b[0m \u001b[32m━━━━━━━━━━━━━━━━━━━━\u001b[0m\u001b[37m\u001b[0m \u001b[1m4s\u001b[0m 18ms/step - accuracy: 0.6958 - loss: 0.5792 - val_accuracy: 0.7245 - val_loss: 0.5504\n",
      "Epoch 3/25\n",
      "\u001b[1m250/250\u001b[0m \u001b[32m━━━━━━━━━━━━━━━━━━━━\u001b[0m\u001b[37m\u001b[0m \u001b[1m4s\u001b[0m 17ms/step - accuracy: 0.7459 - loss: 0.5164 - val_accuracy: 0.7435 - val_loss: 0.5203\n",
      "Epoch 4/25\n",
      "\u001b[1m250/250\u001b[0m \u001b[32m━━━━━━━━━━━━━━━━━━━━\u001b[0m\u001b[37m\u001b[0m \u001b[1m4s\u001b[0m 18ms/step - accuracy: 0.7807 - loss: 0.4587 - val_accuracy: 0.7465 - val_loss: 0.5340\n",
      "Epoch 5/25\n",
      "\u001b[1m250/250\u001b[0m \u001b[32m━━━━━━━━━━━━━━━━━━━━\u001b[0m\u001b[37m\u001b[0m \u001b[1m4s\u001b[0m 17ms/step - accuracy: 0.8153 - loss: 0.4055 - val_accuracy: 0.7515 - val_loss: 0.5433\n",
      "Epoch 6/25\n",
      "\u001b[1m250/250\u001b[0m \u001b[32m━━━━━━━━━━━━━━━━━━━━\u001b[0m\u001b[37m\u001b[0m \u001b[1m4s\u001b[0m 17ms/step - accuracy: 0.8469 - loss: 0.3531 - val_accuracy: 0.7345 - val_loss: 0.6202\n",
      "Epoch 7/25\n",
      "\u001b[1m250/250\u001b[0m \u001b[32m━━━━━━━━━━━━━━━━━━━━\u001b[0m\u001b[37m\u001b[0m \u001b[1m4s\u001b[0m 18ms/step - accuracy: 0.8864 - loss: 0.2743 - val_accuracy: 0.7510 - val_loss: 0.6628\n",
      "Epoch 8/25\n",
      "\u001b[1m250/250\u001b[0m \u001b[32m━━━━━━━━━━━━━━━━━━━━\u001b[0m\u001b[37m\u001b[0m \u001b[1m4s\u001b[0m 17ms/step - accuracy: 0.9106 - loss: 0.2161 - val_accuracy: 0.7520 - val_loss: 0.6799\n",
      "Epoch 9/25\n",
      "\u001b[1m250/250\u001b[0m \u001b[32m━━━━━━━━━━━━━━━━━━━━\u001b[0m\u001b[37m\u001b[0m \u001b[1m4s\u001b[0m 17ms/step - accuracy: 0.9490 - loss: 0.1413 - val_accuracy: 0.7400 - val_loss: 0.7773\n",
      "Epoch 10/25\n",
      "\u001b[1m250/250\u001b[0m \u001b[32m━━━━━━━━━━━━━━━━━━━━\u001b[0m\u001b[37m\u001b[0m \u001b[1m4s\u001b[0m 18ms/step - accuracy: 0.9686 - loss: 0.0900 - val_accuracy: 0.7520 - val_loss: 0.8324\n",
      "Epoch 11/25\n",
      "\u001b[1m250/250\u001b[0m \u001b[32m━━━━━━━━━━━━━━━━━━━━\u001b[0m\u001b[37m\u001b[0m \u001b[1m4s\u001b[0m 17ms/step - accuracy: 0.9743 - loss: 0.0757 - val_accuracy: 0.7510 - val_loss: 0.9550\n",
      "Epoch 12/25\n",
      "\u001b[1m250/250\u001b[0m \u001b[32m━━━━━━━━━━━━━━━━━━━━\u001b[0m\u001b[37m\u001b[0m \u001b[1m4s\u001b[0m 18ms/step - accuracy: 0.9761 - loss: 0.0675 - val_accuracy: 0.7480 - val_loss: 1.0419\n",
      "Epoch 13/25\n",
      "\u001b[1m250/250\u001b[0m \u001b[32m━━━━━━━━━━━━━━━━━━━━\u001b[0m\u001b[37m\u001b[0m \u001b[1m4s\u001b[0m 17ms/step - accuracy: 0.9823 - loss: 0.0493 - val_accuracy: 0.7450 - val_loss: 1.1489\n",
      "Epoch 14/25\n",
      "\u001b[1m250/250\u001b[0m \u001b[32m━━━━━━━━━━━━━━━━━━━━\u001b[0m\u001b[37m\u001b[0m \u001b[1m4s\u001b[0m 17ms/step - accuracy: 0.9899 - loss: 0.0337 - val_accuracy: 0.7420 - val_loss: 1.2032\n",
      "Epoch 15/25\n",
      "\u001b[1m250/250\u001b[0m \u001b[32m━━━━━━━━━━━━━━━━━━━━\u001b[0m\u001b[37m\u001b[0m \u001b[1m4s\u001b[0m 18ms/step - accuracy: 0.9892 - loss: 0.0332 - val_accuracy: 0.7290 - val_loss: 1.3445\n",
      "Epoch 16/25\n",
      "\u001b[1m250/250\u001b[0m \u001b[32m━━━━━━━━━━━━━━━━━━━━\u001b[0m\u001b[37m\u001b[0m \u001b[1m4s\u001b[0m 17ms/step - accuracy: 0.9924 - loss: 0.0206 - val_accuracy: 0.7450 - val_loss: 1.3618\n",
      "Epoch 17/25\n",
      "\u001b[1m250/250\u001b[0m \u001b[32m━━━━━━━━━━━━━━━━━━━━\u001b[0m\u001b[37m\u001b[0m \u001b[1m4s\u001b[0m 18ms/step - accuracy: 0.9925 - loss: 0.0240 - val_accuracy: 0.7365 - val_loss: 1.4068\n",
      "Epoch 18/25\n",
      "\u001b[1m250/250\u001b[0m \u001b[32m━━━━━━━━━━━━━━━━━━━━\u001b[0m\u001b[37m\u001b[0m \u001b[1m4s\u001b[0m 18ms/step - accuracy: 0.9880 - loss: 0.0337 - val_accuracy: 0.7555 - val_loss: 1.3305\n",
      "Epoch 19/25\n",
      "\u001b[1m250/250\u001b[0m \u001b[32m━━━━━━━━━━━━━━━━━━━━\u001b[0m\u001b[37m\u001b[0m \u001b[1m4s\u001b[0m 17ms/step - accuracy: 0.9967 - loss: 0.0153 - val_accuracy: 0.7505 - val_loss: 1.6198\n",
      "Epoch 20/25\n",
      "\u001b[1m250/250\u001b[0m \u001b[32m━━━━━━━━━━━━━━━━━━━━\u001b[0m\u001b[37m\u001b[0m \u001b[1m4s\u001b[0m 17ms/step - accuracy: 0.9954 - loss: 0.0150 - val_accuracy: 0.7370 - val_loss: 1.6831\n",
      "Epoch 21/25\n",
      "\u001b[1m250/250\u001b[0m \u001b[32m━━━━━━━━━━━━━━━━━━━━\u001b[0m\u001b[37m\u001b[0m \u001b[1m4s\u001b[0m 17ms/step - accuracy: 0.9909 - loss: 0.0301 - val_accuracy: 0.7485 - val_loss: 1.5136\n",
      "Epoch 22/25\n",
      "\u001b[1m250/250\u001b[0m \u001b[32m━━━━━━━━━━━━━━━━━━━━\u001b[0m\u001b[37m\u001b[0m \u001b[1m4s\u001b[0m 18ms/step - accuracy: 0.9949 - loss: 0.0180 - val_accuracy: 0.7405 - val_loss: 1.6569\n",
      "Epoch 23/25\n",
      "\u001b[1m250/250\u001b[0m \u001b[32m━━━━━━━━━━━━━━━━━━━━\u001b[0m\u001b[37m\u001b[0m \u001b[1m4s\u001b[0m 17ms/step - accuracy: 0.9911 - loss: 0.0288 - val_accuracy: 0.7385 - val_loss: 1.6174\n",
      "Epoch 24/25\n",
      "\u001b[1m250/250\u001b[0m \u001b[32m━━━━━━━━━━━━━━━━━━━━\u001b[0m\u001b[37m\u001b[0m \u001b[1m4s\u001b[0m 17ms/step - accuracy: 0.9967 - loss: 0.0116 - val_accuracy: 0.7515 - val_loss: 1.6770\n",
      "Epoch 25/25\n",
      "\u001b[1m250/250\u001b[0m \u001b[32m━━━━━━━━━━━━━━━━━━━━\u001b[0m\u001b[37m\u001b[0m \u001b[1m4s\u001b[0m 18ms/step - accuracy: 0.9982 - loss: 0.0062 - val_accuracy: 0.7370 - val_loss: 1.7203\n"
     ]
    },
    {
     "data": {
      "text/plain": [
       "<keras.src.callbacks.history.History at 0x2751d4699d0>"
      ]
     },
     "execution_count": 12,
     "metadata": {},
     "output_type": "execute_result"
    }
   ],
   "source": [
    "cnn.fit(x = train_set, validation_data = test_set, epochs = 25)"
   ]
  },
  {
   "cell_type": "code",
   "execution_count": 13,
   "id": "eaa2acb5-5bea-446e-a8c7-efe36449af52",
   "metadata": {},
   "outputs": [],
   "source": [
    "cnn.save('modelo_gato_cachorro.keras')"
   ]
  },
  {
   "cell_type": "markdown",
   "id": "2c34864c-3c50-4ee9-9ffb-c690a0ab3ce7",
   "metadata": {},
   "source": [
    "## Single Prediction"
   ]
  },
  {
   "cell_type": "code",
   "execution_count": 15,
   "id": "dfda6593-dfe0-4d80-bb5b-c79c74d4aeaa",
   "metadata": {},
   "outputs": [],
   "source": [
    "cnn = load_model('modelo_gato_cachorro.keras', compile=False)"
   ]
  }
 ],
 "metadata": {
  "kernelspec": {
   "display_name": "Python 3 (ipykernel)",
   "language": "python",
   "name": "python3"
  },
  "language_info": {
   "codemirror_mode": {
    "name": "ipython",
    "version": 3
   },
   "file_extension": ".py",
   "mimetype": "text/x-python",
   "name": "python",
   "nbconvert_exporter": "python",
   "pygments_lexer": "ipython3",
   "version": "3.12.4"
  }
 },
 "nbformat": 4,
 "nbformat_minor": 5
}
