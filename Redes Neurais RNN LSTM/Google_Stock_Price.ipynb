{
 "cells": [
  {
   "cell_type": "code",
   "execution_count": 2,
   "id": "aaff5923-c21f-4532-bb6f-1d9694023740",
   "metadata": {},
   "outputs": [],
   "source": [
    "# training_set = dataset_train.iloc[:, 1:3].values\n",
    "\n",
    "# X_train = np.reshape(X_train, (X_train.shape[0], X_train.shape[1], 2)) \n",
    "# Use this to add another column to the initial matrix. When i get to the np.reshape function i used: \n",
    "\n",
    "# for i in range(60, 1258):\n",
    "#     X_train.append(training_set_scaled[i-60:i, 0:2])"
   ]
  },
  {
   "cell_type": "code",
   "execution_count": 3,
   "id": "5be5665f-be4a-4ce6-a57b-ebf534ca8dbc",
   "metadata": {},
   "outputs": [],
   "source": [
    "import numpy as np \n",
    "import pandas as pd \n",
    "import matplotlib.pyplot as plt\n",
    "from sklearn.preprocessing import MinMaxScaler"
   ]
  },
  {
   "cell_type": "code",
   "execution_count": 4,
   "id": "8ec08b03-d746-4bb7-87be-238ae11fd8e5",
   "metadata": {},
   "outputs": [],
   "source": [
    "dataset_train = pd.read_csv('Google_Stock_Price_Train.csv')\n",
    "trainig_set = dataset_train.iloc[:, 1:2].values"
   ]
  },
  {
   "cell_type": "code",
   "execution_count": 5,
   "id": "624d8ab3-44c2-4315-b1b2-dc216778acf6",
   "metadata": {},
   "outputs": [
    {
     "data": {
      "text/plain": [
       "array([[325.25],\n",
       "       [331.27],\n",
       "       [329.83],\n",
       "       ...,\n",
       "       [793.7 ],\n",
       "       [783.33],\n",
       "       [782.75]])"
      ]
     },
     "execution_count": 5,
     "metadata": {},
     "output_type": "execute_result"
    }
   ],
   "source": [
    "trainig_set"
   ]
  },
  {
   "cell_type": "code",
   "execution_count": 6,
   "id": "d9320cdf-a354-45de-b50f-1f1024b5cc19",
   "metadata": {},
   "outputs": [],
   "source": [
    "sc = MinMaxScaler(feature_range = (0, 1))\n",
    "trainig_set_scaled = sc.fit_transform(trainig_set)"
   ]
  },
  {
   "cell_type": "code",
   "execution_count": 7,
   "id": "d95c950e-fa60-4b37-b03e-38b3ebf754c6",
   "metadata": {},
   "outputs": [
    {
     "data": {
      "text/plain": [
       "array([[0.08581368],\n",
       "       [0.09701243],\n",
       "       [0.09433366],\n",
       "       ...,\n",
       "       [0.95725128],\n",
       "       [0.93796041],\n",
       "       [0.93688146]])"
      ]
     },
     "execution_count": 7,
     "metadata": {},
     "output_type": "execute_result"
    }
   ],
   "source": [
    "trainig_set_scaled"
   ]
  },
  {
   "cell_type": "code",
   "execution_count": 8,
   "id": "7ebb2b82-c43e-4d9f-95c0-d24a663f0cfb",
   "metadata": {},
   "outputs": [],
   "source": [
    "X_train = []\n",
    "y_train = []\n",
    "\n",
    "for i in range(60, len(trainig_set)):\n",
    "    X_train.append(trainig_set_scaled[i-60:i, 0])   # i = 60 - 60 = 0 : 60 [0:59]\n",
    "    y_train.append(trainig_set_scaled[i, 0]) # treinar [60] para prevê\n",
    "\n",
    "X_train, y_train = np.array(X_train), np.array(y_train)"
   ]
  },
  {
   "cell_type": "code",
   "execution_count": 9,
   "id": "bc25eecf-084d-42c6-96bb-cb2207112304",
   "metadata": {},
   "outputs": [
    {
     "data": {
      "text/html": [
       "<div>\n",
       "<style scoped>\n",
       "    .dataframe tbody tr th:only-of-type {\n",
       "        vertical-align: middle;\n",
       "    }\n",
       "\n",
       "    .dataframe tbody tr th {\n",
       "        vertical-align: top;\n",
       "    }\n",
       "\n",
       "    .dataframe thead th {\n",
       "        text-align: right;\n",
       "    }\n",
       "</style>\n",
       "<table border=\"1\" class=\"dataframe\">\n",
       "  <thead>\n",
       "    <tr style=\"text-align: right;\">\n",
       "      <th></th>\n",
       "      <th>0</th>\n",
       "      <th>1</th>\n",
       "      <th>2</th>\n",
       "      <th>3</th>\n",
       "      <th>4</th>\n",
       "      <th>5</th>\n",
       "      <th>6</th>\n",
       "      <th>7</th>\n",
       "      <th>8</th>\n",
       "      <th>9</th>\n",
       "      <th>...</th>\n",
       "      <th>50</th>\n",
       "      <th>51</th>\n",
       "      <th>52</th>\n",
       "      <th>53</th>\n",
       "      <th>54</th>\n",
       "      <th>55</th>\n",
       "      <th>56</th>\n",
       "      <th>57</th>\n",
       "      <th>58</th>\n",
       "      <th>59</th>\n",
       "    </tr>\n",
       "  </thead>\n",
       "  <tbody>\n",
       "    <tr>\n",
       "      <th>0</th>\n",
       "      <td>0.085814</td>\n",
       "      <td>0.097012</td>\n",
       "      <td>0.094334</td>\n",
       "      <td>0.091562</td>\n",
       "      <td>0.079842</td>\n",
       "      <td>0.064328</td>\n",
       "      <td>0.058542</td>\n",
       "      <td>0.065686</td>\n",
       "      <td>0.061091</td>\n",
       "      <td>0.066393</td>\n",
       "      <td>...</td>\n",
       "      <td>0.052143</td>\n",
       "      <td>0.056124</td>\n",
       "      <td>0.058189</td>\n",
       "      <td>0.065407</td>\n",
       "      <td>0.068830</td>\n",
       "      <td>0.072438</td>\n",
       "      <td>0.079935</td>\n",
       "      <td>0.078466</td>\n",
       "      <td>0.080345</td>\n",
       "      <td>0.084977</td>\n",
       "    </tr>\n",
       "    <tr>\n",
       "      <th>1</th>\n",
       "      <td>0.097012</td>\n",
       "      <td>0.094334</td>\n",
       "      <td>0.091562</td>\n",
       "      <td>0.079842</td>\n",
       "      <td>0.064328</td>\n",
       "      <td>0.058542</td>\n",
       "      <td>0.065686</td>\n",
       "      <td>0.061091</td>\n",
       "      <td>0.066393</td>\n",
       "      <td>0.061426</td>\n",
       "      <td>...</td>\n",
       "      <td>0.056124</td>\n",
       "      <td>0.058189</td>\n",
       "      <td>0.065407</td>\n",
       "      <td>0.068830</td>\n",
       "      <td>0.072438</td>\n",
       "      <td>0.079935</td>\n",
       "      <td>0.078466</td>\n",
       "      <td>0.080345</td>\n",
       "      <td>0.084977</td>\n",
       "      <td>0.086279</td>\n",
       "    </tr>\n",
       "    <tr>\n",
       "      <th>2</th>\n",
       "      <td>0.094334</td>\n",
       "      <td>0.091562</td>\n",
       "      <td>0.079842</td>\n",
       "      <td>0.064328</td>\n",
       "      <td>0.058542</td>\n",
       "      <td>0.065686</td>\n",
       "      <td>0.061091</td>\n",
       "      <td>0.066393</td>\n",
       "      <td>0.061426</td>\n",
       "      <td>0.074745</td>\n",
       "      <td>...</td>\n",
       "      <td>0.058189</td>\n",
       "      <td>0.065407</td>\n",
       "      <td>0.068830</td>\n",
       "      <td>0.072438</td>\n",
       "      <td>0.079935</td>\n",
       "      <td>0.078466</td>\n",
       "      <td>0.080345</td>\n",
       "      <td>0.084977</td>\n",
       "      <td>0.086279</td>\n",
       "      <td>0.084716</td>\n",
       "    </tr>\n",
       "    <tr>\n",
       "      <th>3</th>\n",
       "      <td>0.091562</td>\n",
       "      <td>0.079842</td>\n",
       "      <td>0.064328</td>\n",
       "      <td>0.058542</td>\n",
       "      <td>0.065686</td>\n",
       "      <td>0.061091</td>\n",
       "      <td>0.066393</td>\n",
       "      <td>0.061426</td>\n",
       "      <td>0.074745</td>\n",
       "      <td>0.027978</td>\n",
       "      <td>...</td>\n",
       "      <td>0.065407</td>\n",
       "      <td>0.068830</td>\n",
       "      <td>0.072438</td>\n",
       "      <td>0.079935</td>\n",
       "      <td>0.078466</td>\n",
       "      <td>0.080345</td>\n",
       "      <td>0.084977</td>\n",
       "      <td>0.086279</td>\n",
       "      <td>0.084716</td>\n",
       "      <td>0.074541</td>\n",
       "    </tr>\n",
       "    <tr>\n",
       "      <th>4</th>\n",
       "      <td>0.079842</td>\n",
       "      <td>0.064328</td>\n",
       "      <td>0.058542</td>\n",
       "      <td>0.065686</td>\n",
       "      <td>0.061091</td>\n",
       "      <td>0.066393</td>\n",
       "      <td>0.061426</td>\n",
       "      <td>0.074745</td>\n",
       "      <td>0.027978</td>\n",
       "      <td>0.023793</td>\n",
       "      <td>...</td>\n",
       "      <td>0.068830</td>\n",
       "      <td>0.072438</td>\n",
       "      <td>0.079935</td>\n",
       "      <td>0.078466</td>\n",
       "      <td>0.080345</td>\n",
       "      <td>0.084977</td>\n",
       "      <td>0.086279</td>\n",
       "      <td>0.084716</td>\n",
       "      <td>0.074541</td>\n",
       "      <td>0.078838</td>\n",
       "    </tr>\n",
       "  </tbody>\n",
       "</table>\n",
       "<p>5 rows × 60 columns</p>\n",
       "</div>"
      ],
      "text/plain": [
       "         0         1         2         3         4         5         6   \\\n",
       "0  0.085814  0.097012  0.094334  0.091562  0.079842  0.064328  0.058542   \n",
       "1  0.097012  0.094334  0.091562  0.079842  0.064328  0.058542  0.065686   \n",
       "2  0.094334  0.091562  0.079842  0.064328  0.058542  0.065686  0.061091   \n",
       "3  0.091562  0.079842  0.064328  0.058542  0.065686  0.061091  0.066393   \n",
       "4  0.079842  0.064328  0.058542  0.065686  0.061091  0.066393  0.061426   \n",
       "\n",
       "         7         8         9   ...        50        51        52        53  \\\n",
       "0  0.065686  0.061091  0.066393  ...  0.052143  0.056124  0.058189  0.065407   \n",
       "1  0.061091  0.066393  0.061426  ...  0.056124  0.058189  0.065407  0.068830   \n",
       "2  0.066393  0.061426  0.074745  ...  0.058189  0.065407  0.068830  0.072438   \n",
       "3  0.061426  0.074745  0.027978  ...  0.065407  0.068830  0.072438  0.079935   \n",
       "4  0.074745  0.027978  0.023793  ...  0.068830  0.072438  0.079935  0.078466   \n",
       "\n",
       "         54        55        56        57        58        59  \n",
       "0  0.068830  0.072438  0.079935  0.078466  0.080345  0.084977  \n",
       "1  0.072438  0.079935  0.078466  0.080345  0.084977  0.086279  \n",
       "2  0.079935  0.078466  0.080345  0.084977  0.086279  0.084716  \n",
       "3  0.078466  0.080345  0.084977  0.086279  0.084716  0.074541  \n",
       "4  0.080345  0.084977  0.086279  0.084716  0.074541  0.078838  \n",
       "\n",
       "[5 rows x 60 columns]"
      ]
     },
     "execution_count": 9,
     "metadata": {},
     "output_type": "execute_result"
    }
   ],
   "source": [
    "pd.DataFrame(X_train).head()"
   ]
  },
  {
   "cell_type": "code",
   "execution_count": 11,
   "id": "0da3d676-27b3-4620-8f95-4e6ea585b403",
   "metadata": {},
   "outputs": [],
   "source": [
    "# (X_train_shape[0] (número de linhas)  X_train_shape[1] (número de colunas))\n",
    "X_train = np.reshape(X_train, (X_train.shape[0], X_train.shape[1], 1))"
   ]
  },
  {
   "cell_type": "code",
   "execution_count": 19,
   "id": "99010c4a-ec39-4c44-b45f-9d692db06169",
   "metadata": {},
   "outputs": [
    {
     "name": "stdout",
     "output_type": "stream",
     "text": [
      "Eixo 0: Tamanho = 1198\n",
      "Eixo 1: Tamanho = 60\n",
      "Eixo 2: Tamanho = 1\n"
     ]
    }
   ],
   "source": [
    "# Eixo 0 (1198): Representa o número de janelas criadas (uma para cada dia a partir do 60º). relacionado ao y_train\n",
    "# Eixo 1 (60): Representa os 60 dias consecutivos dentro de cada janela.\n",
    "# Eixo 2 (1): Representa o canal (único neste caso, com o valor normalizado).\n",
    "for i, size in enumerate(X_train.shape):\n",
    "    print(f\"Eixo {i}: Tamanho = {size}\")"
   ]
  }
 ],
 "metadata": {
  "kernelspec": {
   "display_name": "Python 3 (ipykernel)",
   "language": "python",
   "name": "python3"
  },
  "language_info": {
   "codemirror_mode": {
    "name": "ipython",
    "version": 3
   },
   "file_extension": ".py",
   "mimetype": "text/x-python",
   "name": "python",
   "nbconvert_exporter": "python",
   "pygments_lexer": "ipython3",
   "version": "3.12.4"
  }
 },
 "nbformat": 4,
 "nbformat_minor": 5
}
